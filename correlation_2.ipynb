{
 "cells": [
  {
   "cell_type": "markdown",
   "metadata": {},
   "source": [
    "Std deviation and Correlation:"
   ]
  },
  {
   "cell_type": "markdown",
   "metadata": {},
   "source": [
    " the mean is the \"center\" of the data. All of the differences that are negative will always cancel out all of the differences that are positive. Let's look at some examples to verify this."
   ]
  },
  {
   "cell_type": "code",
   "execution_count": 26,
   "metadata": {
    "collapsed": true
   },
   "outputs": [],
   "source": [
    "#mean - avg;\n",
    "# Median - arrange and middle;\n",
    "# Mode - most freq value;\n",
    "#std deviation: how far it spread from mean;\n",
    "#variance: square of s.d"
   ]
  },
  {
   "cell_type": "code",
   "execution_count": 27,
   "metadata": {
    "collapsed": false
   },
   "outputs": [
    {
     "name": "stdout",
     "output_type": "stream",
     "text": [
      "4.5\n",
      "[-2.5, -0.5, 0.5, -5.5, -4.5, 5.5, 3.5, 4.5]\n"
     ]
    },
    {
     "data": {
      "text/plain": [
       "1.0"
      ]
     },
     "execution_count": 27,
     "metadata": {},
     "output_type": "execute_result"
    }
   ],
   "source": [
    "from numpy import median\n",
    "values = [2, 4, 5, -1, 0, 10, 8, 9]\n",
    "values_median = median(values)\n",
    "print( values_median)\n",
    "diff = [ i - values_median for i in values ]\n",
    "print(diff)\n",
    "median_diff = sum(diff)\n",
    "median_diff\n",
    "## if sum == 1; then pdf\n"
   ]
  },
  {
   "cell_type": "markdown",
   "metadata": {},
   "source": [
    "We looked at kurtosis earlier, which measures the shape of a distribution. Variance directly measures how far the average data point is from the mean."
   ]
  },
  {
   "cell_type": "code",
   "execution_count": 28,
   "metadata": {
    "collapsed": false
   },
   "outputs": [
    {
     "data": {
      "text/plain": [
       "5060.8373148456349"
      ]
     },
     "execution_count": 28,
     "metadata": {},
     "output_type": "execute_result"
    }
   ],
   "source": [
    "#nba data:\n",
    "import matplotlib.pyplot as plt\n",
    "import pandas as pd\n",
    "\n",
    "nba_stats = pd.read_csv('nba_2013.csv')\n",
    "pf_mean = nba_stats['pf'].mean()\n",
    "\n",
    "variance= 0\n",
    "for p in nba_stats['pf']:\n",
    "    diff = p - pf_mean\n",
    "    square_diff = diff ** 2\n",
    "    variance += square_diff\n",
    "    \n",
    "\n",
    "variance = variance / len(nba_stats['pf'])\n",
    "variance\n"
   ]
  },
  {
   "cell_type": "code",
   "execution_count": 29,
   "metadata": {
    "collapsed": false
   },
   "outputs": [
    {
     "data": {
      "text/plain": [
       "969.13773712941156"
      ]
     },
     "execution_count": 29,
     "metadata": {},
     "output_type": "execute_result"
    }
   ],
   "source": [
    "#pts variance;\n",
    "\n",
    "point_variance = 0\n",
    "point_mean = nba_stats['pts'].mean()\n",
    "for p in nba_stats['pts']:\n",
    "    diff = p - point_variance\n",
    "    sq_diff = diff ** 2\n",
    "    point_variance += square_diff\n",
    "    \n",
    "point_variance = point_variance / len(nba_stats['pts'])\n",
    "\n",
    "point_variance"
   ]
  },
  {
   "cell_type": "code",
   "execution_count": 30,
   "metadata": {
    "collapsed": false
   },
   "outputs": [
    {
     "name": "stdout",
     "output_type": "stream",
     "text": [
      "True\n",
      "True\n"
     ]
    }
   ],
   "source": [
    "a = 5 * 5 / 2\n",
    "# Multiply by 1/2 instead of dividing by 2. The result is the same (2/2 == 2 * 1/2).\n",
    "a_subbed = 5 * 5 * 1/2\n",
    "a_mul_first = 25 * 1/2\n",
    "a_div_first = 5 * 2.5\n",
    "print(a_mul_first == a_div_first)\n",
    "\n",
    "# The same is true for subtraction and addition.\n",
    "# In this case, we need to convert subtraction into adding a negative number. If we don't we'll end up subtracting more than we expect.\n",
    "b = 10 - 8 + 5\n",
    "# Add -8 instead of subtracting 8.\n",
    "b_subbed = 10 + -8 + 5\n",
    "b_sub_first = 2 + 5\n",
    "b_add_first = 10 + -3\n",
    "print(b_sub_first == b_add_first)\n",
    "\n",
    "c = 10 / 2 + 5\n",
    "d = 3 - 1 / 2 * 2\n",
    "c = 10 / 2 * 5\n",
    "d = 3 - 1 / 2 - 2"
   ]
  },
  {
   "cell_type": "code",
   "execution_count": null,
   "metadata": {
    "collapsed": true
   },
   "outputs": [],
   "source": []
  },
  {
   "cell_type": "code",
   "execution_count": 31,
   "metadata": {
    "collapsed": false
   },
   "outputs": [
    {
     "name": "stdout",
     "output_type": "stream",
     "text": [
      "(1310, 14)\n"
     ]
    }
   ],
   "source": [
    "import pandas as pd\n",
    "titanic_survival = pd.read_csv('titanic_survival.csv')\n",
    "print(titanic_survival.shape)"
   ]
  },
  {
   "cell_type": "code",
   "execution_count": 32,
   "metadata": {
    "collapsed": false
   },
   "outputs": [
    {
     "name": "stdout",
     "output_type": "stream",
     "text": [
      "Empty DataFrame\n",
      "Columns: [pclass, survived, name, sex, age, sibsp, parch, ticket, fare, cabin, embarked, boat, body, home.dest]\n",
      "Index: []\n"
     ]
    }
   ],
   "source": [
    "new = titanic_survival.dropna()\n",
    "print(new)"
   ]
  },
  {
   "cell_type": "code",
   "execution_count": 33,
   "metadata": {
    "collapsed": false
   },
   "outputs": [
    {
     "data": {
      "text/html": [
       "<div>\n",
       "<table border=\"1\" class=\"dataframe\">\n",
       "  <thead>\n",
       "    <tr style=\"text-align: right;\">\n",
       "      <th></th>\n",
       "      <th>pclass</th>\n",
       "      <th>survived</th>\n",
       "      <th>name</th>\n",
       "      <th>sex</th>\n",
       "      <th>age</th>\n",
       "      <th>sibsp</th>\n",
       "      <th>parch</th>\n",
       "      <th>ticket</th>\n",
       "      <th>fare</th>\n",
       "      <th>cabin</th>\n",
       "      <th>embarked</th>\n",
       "      <th>boat</th>\n",
       "      <th>body</th>\n",
       "      <th>home.dest</th>\n",
       "    </tr>\n",
       "  </thead>\n",
       "  <tbody>\n",
       "    <tr>\n",
       "      <th>0</th>\n",
       "      <td>1.0</td>\n",
       "      <td>1.0</td>\n",
       "      <td>Allen, Miss. Elisabeth Walton</td>\n",
       "      <td>female</td>\n",
       "      <td>29.0000</td>\n",
       "      <td>0.0</td>\n",
       "      <td>0.0</td>\n",
       "      <td>24160</td>\n",
       "      <td>211.3375</td>\n",
       "      <td>B5</td>\n",
       "      <td>S</td>\n",
       "      <td>2</td>\n",
       "      <td>NaN</td>\n",
       "      <td>St Louis, MO</td>\n",
       "    </tr>\n",
       "    <tr>\n",
       "      <th>1</th>\n",
       "      <td>1.0</td>\n",
       "      <td>1.0</td>\n",
       "      <td>Allison, Master. Hudson Trevor</td>\n",
       "      <td>male</td>\n",
       "      <td>0.9167</td>\n",
       "      <td>1.0</td>\n",
       "      <td>2.0</td>\n",
       "      <td>113781</td>\n",
       "      <td>151.5500</td>\n",
       "      <td>C22 C26</td>\n",
       "      <td>S</td>\n",
       "      <td>11</td>\n",
       "      <td>NaN</td>\n",
       "      <td>Montreal, PQ / Chesterville, ON</td>\n",
       "    </tr>\n",
       "    <tr>\n",
       "      <th>2</th>\n",
       "      <td>1.0</td>\n",
       "      <td>0.0</td>\n",
       "      <td>Allison, Miss. Helen Loraine</td>\n",
       "      <td>female</td>\n",
       "      <td>2.0000</td>\n",
       "      <td>1.0</td>\n",
       "      <td>2.0</td>\n",
       "      <td>113781</td>\n",
       "      <td>151.5500</td>\n",
       "      <td>C22 C26</td>\n",
       "      <td>S</td>\n",
       "      <td>NaN</td>\n",
       "      <td>NaN</td>\n",
       "      <td>Montreal, PQ / Chesterville, ON</td>\n",
       "    </tr>\n",
       "    <tr>\n",
       "      <th>3</th>\n",
       "      <td>1.0</td>\n",
       "      <td>0.0</td>\n",
       "      <td>Allison, Mr. Hudson Joshua Creighton</td>\n",
       "      <td>male</td>\n",
       "      <td>30.0000</td>\n",
       "      <td>1.0</td>\n",
       "      <td>2.0</td>\n",
       "      <td>113781</td>\n",
       "      <td>151.5500</td>\n",
       "      <td>C22 C26</td>\n",
       "      <td>S</td>\n",
       "      <td>NaN</td>\n",
       "      <td>135.0</td>\n",
       "      <td>Montreal, PQ / Chesterville, ON</td>\n",
       "    </tr>\n",
       "    <tr>\n",
       "      <th>4</th>\n",
       "      <td>1.0</td>\n",
       "      <td>0.0</td>\n",
       "      <td>Allison, Mrs. Hudson J C (Bessie Waldo Daniels)</td>\n",
       "      <td>female</td>\n",
       "      <td>25.0000</td>\n",
       "      <td>1.0</td>\n",
       "      <td>2.0</td>\n",
       "      <td>113781</td>\n",
       "      <td>151.5500</td>\n",
       "      <td>C22 C26</td>\n",
       "      <td>S</td>\n",
       "      <td>NaN</td>\n",
       "      <td>NaN</td>\n",
       "      <td>Montreal, PQ / Chesterville, ON</td>\n",
       "    </tr>\n",
       "  </tbody>\n",
       "</table>\n",
       "</div>"
      ],
      "text/plain": [
       "   pclass  survived                                             name     sex  \\\n",
       "0     1.0       1.0                    Allen, Miss. Elisabeth Walton  female   \n",
       "1     1.0       1.0                   Allison, Master. Hudson Trevor    male   \n",
       "2     1.0       0.0                     Allison, Miss. Helen Loraine  female   \n",
       "3     1.0       0.0             Allison, Mr. Hudson Joshua Creighton    male   \n",
       "4     1.0       0.0  Allison, Mrs. Hudson J C (Bessie Waldo Daniels)  female   \n",
       "\n",
       "       age  sibsp  parch  ticket      fare    cabin embarked boat   body  \\\n",
       "0  29.0000    0.0    0.0   24160  211.3375       B5        S    2    NaN   \n",
       "1   0.9167    1.0    2.0  113781  151.5500  C22 C26        S   11    NaN   \n",
       "2   2.0000    1.0    2.0  113781  151.5500  C22 C26        S  NaN    NaN   \n",
       "3  30.0000    1.0    2.0  113781  151.5500  C22 C26        S  NaN  135.0   \n",
       "4  25.0000    1.0    2.0  113781  151.5500  C22 C26        S  NaN    NaN   \n",
       "\n",
       "                         home.dest  \n",
       "0                     St Louis, MO  \n",
       "1  Montreal, PQ / Chesterville, ON  \n",
       "2  Montreal, PQ / Chesterville, ON  \n",
       "3  Montreal, PQ / Chesterville, ON  \n",
       "4  Montreal, PQ / Chesterville, ON  "
      ]
     },
     "execution_count": 33,
     "metadata": {},
     "output_type": "execute_result"
    }
   ],
   "source": [
    "titanic_survival.head()"
   ]
  },
  {
   "cell_type": "code",
   "execution_count": 34,
   "metadata": {
    "collapsed": false
   },
   "outputs": [
    {
     "data": {
      "text/plain": [
       "(1046, 14)"
      ]
     },
     "execution_count": 34,
     "metadata": {},
     "output_type": "execute_result"
    }
   ],
   "source": [
    "new = titanic_survival.dropna(subset=[\"embarked\", \"cabin\"])\n",
    "new.shape\n",
    "new = titanic_survival.dropna(subset=[\"age\", \"sex\"])\n",
    "new.shape"
   ]
  },
  {
   "cell_type": "code",
   "execution_count": 35,
   "metadata": {
    "collapsed": false
   },
   "outputs": [
    {
     "data": {
      "image/png": "[encoded data removed]",
      "text/plain": [
       "<matplotlib.figure.Figure at 0x106175400>"
      ]
     },
     "metadata": {},
     "output_type": "display_data"
    }
   ],
   "source": [
    "#plot histogram of age: mediana and mean\n",
    "import matplotlib.pyplot as plt\n",
    "import numpy as np\n",
    "\n",
    "plt.hist( new['age'])\n",
    "plt.axvline( np.median( new['age']), color='g')\n",
    "plt.axvline( new['age'].mean(), color='r')\n",
    "plt.show()"
   ]
  },
  {
   "cell_type": "code",
   "execution_count": 36,
   "metadata": {
    "collapsed": true
   },
   "outputs": [],
   "source": [
    "from scipy.stats import skew\n",
    "from scipy.stats import kurtosis\n",
    "\n",
    "mean_age = new['age'].mean()\n",
    "median_age = np.median( new['age'])\n",
    "\n",
    "skew_age = skew( new['age'] )\n",
    "kurtosis_age = kurtosis( new['age'] )"
   ]
  },
  {
   "cell_type": "code",
   "execution_count": 37,
   "metadata": {
    "collapsed": false
   },
   "outputs": [
    {
     "data": {
      "image/png": "[encoded data removed]",
      "text/plain": [
       "<matplotlib.figure.Figure at 0x10b3aeba8>"
      ]
     },
     "metadata": {},
     "output_type": "display_data"
    }
   ],
   "source": [
    "nba_stats = pd.read_csv('nba_2013.csv')\n",
    "plt.hist( nba_stats['pf'])\n",
    "mean = nba_stats['pf'].mean()\n",
    "plt.axvline( mean, color='r')\n",
    "\n",
    "std_dev = nba_stats['pf'].std()\n",
    "plt.axvline( std_dev, color='g')\n",
    "\n",
    "plt.show()\n"
   ]
  },
  {
   "cell_type": "code",
   "execution_count": 38,
   "metadata": {
    "collapsed": true
   },
   "outputs": [],
   "source": [
    "total_distance = nba_stats['pf'][0] - mean\n",
    "std_dev_distance = total_distance / std_dev\n",
    "\n",
    "point_10 = nba_stats['pf'][9]\n",
    "point_100 = nba_stats['pf'][99]\n",
    "\n",
    "point_10_std = (point_10 - mean ) / std_dev\n",
    "point_100_std = ( point_100 - mean ) / std_dev\n",
    "\n"
   ]
  },
  {
   "cell_type": "markdown",
   "metadata": {},
   "source": [
    "Normal distribution: bell curve; Probability density function"
   ]
  },
  {
   "cell_type": "code",
   "execution_count": 39,
   "metadata": {
    "collapsed": false
   },
   "outputs": [
    {
     "data": {
      "image/png": "[encoded data removed]",
      "text/plain": [
       "<matplotlib.figure.Figure at 0x106175ef0>"
      ]
     },
     "metadata": {},
     "output_type": "display_data"
    }
   ],
   "source": [
    "from scipy.stats import norm\n",
    "\n",
    "points = np.arange(-1,1, 0.01 )\n",
    "prob = norm.pdf(points, 0, .3 )\n",
    "plt.plot( points, prob )\n",
    "plt.show()"
   ]
  },
  {
   "cell_type": "code",
   "execution_count": 40,
   "metadata": {
    "collapsed": false
   },
   "outputs": [
    {
     "data": {
      "image/png": "[encoded data removed]",
      "text/plain": [
       "<matplotlib.figure.Figure at 0x112356400>"
      ]
     },
     "metadata": {},
     "output_type": "display_data"
    }
   ],
   "source": [
    "points = np.arange(-10,10,0.1)\n",
    "prob = norm.pdf(points,0,2)\n",
    "plt.plot( points, prob )\n",
    "plt.show()"
   ]
  },
  {
   "cell_type": "markdown",
   "metadata": {},
   "source": [
    "About 68% of the data is within one standard deviation, roughly 95% is within two standard deviations, and about 99% is within three standard deviations.\n",
    "\n",
    "This helps us quickly understand where values fall within the data set, as well as how typical or unusual they are."
   ]
  },
  {
   "cell_type": "code",
   "execution_count": 41,
   "metadata": {
    "collapsed": false
   },
   "outputs": [
    {
     "name": "stdout",
     "output_type": "stream",
     "text": [
      "0.68\n",
      "0.96\n",
      "1.0\n"
     ]
    }
   ],
   "source": [
    "\n",
    "\n",
    "wing_lengths = [36, 37, 38, 38, 39, 39, 40, 40, 40, 40, 41, 41, 41, 41, 41, 41, 42, 42, 42, 42, 42, 42, 42, 43, 43, 43, 43, 43, 43, 43, 43, 44, 44, 44, 44, 44, 44, 44, 44, 44, 45, 45, 45, 45, 45, 45, 45, 45, 45, 45, 46, 46, 46, 46, 46, 46, 46, 46, 46, 46, 47, 47, 47, 47, 47, 47, 47, 47, 47, 48, 48, 48, 48, 48, 48, 48, 48, 49, 49, 49, 49, 49, 49, 49, 50, 50, 50, 50, 50, 50, 51, 51, 51, 51, 52, 52, 53, 53, 54, 55]\n",
    "mean = sum(wing_lengths) / len(wing_lengths)\n",
    "variances = [(i - mean) ** 2 for i in wing_lengths]\n",
    "variance = sum(variances)/ len(variances)\n",
    "standard_deviation = variance ** (1/2)\n",
    "\n",
    "standard_deviations = [(i - mean) / standard_deviation for i in wing_lengths]\n",
    "def within_percentage(deviations, count):\n",
    "    within = [i for i in deviations if i <= count and i >= -count]\n",
    "    count = len(within)\n",
    "    return count / len(deviations)\n",
    "\n",
    "within_one_percentage = within_percentage(standard_deviations, 1)\n",
    "within_two_percentage = within_percentage(standard_deviations, 2)\n",
    "within_three_percentage = within_percentage(standard_deviations, 3)\n",
    "\n",
    "\n",
    "print( within_one_percentage)\n",
    "\n",
    "print(within_two_percentage)\n",
    "\n",
    "print( within_three_percentage)\n"
   ]
  },
  {
   "cell_type": "markdown",
   "metadata": {},
   "source": [
    "Correlate two colums pts and pf"
   ]
  },
  {
   "cell_type": "code",
   "execution_count": 42,
   "metadata": {
    "collapsed": false
   },
   "outputs": [
    {
     "data": {
      "image/png": "[encoded data removed]",
      "text/plain": [
       "<matplotlib.figure.Figure at 0x1123c4588>"
      ]
     },
     "metadata": {},
     "output_type": "display_data"
    },
    {
     "data": {
      "image/png": "[encoded data removed]",
      "text/plain": [
       "<matplotlib.figure.Figure at 0x112368e10>"
      ]
     },
     "metadata": {},
     "output_type": "display_data"
    }
   ],
   "source": [
    "import matplotlib.pyplot as plt\n",
    "\n",
    "plt.scatter( nba_stats['fga'], nba_stats['pts'] )\n",
    "plt.show()\n",
    "\n",
    "plt.scatter( nba_stats['fga'], -nba_stats['pts'] )  #slops down\n",
    "plt.show()\n",
    "\n",
    "\n",
    "\n"
   ]
  },
  {
   "cell_type": "code",
   "execution_count": 43,
   "metadata": {
    "collapsed": false
   },
   "outputs": [
    {
     "data": {
      "image/png": "[encoded data removed]",
      "text/plain": [
       "<matplotlib.figure.Figure at 0x1126e5b00>"
      ]
     },
     "metadata": {},
     "output_type": "display_data"
    },
    {
     "data": {
      "image/png": "[encoded data removed]",
      "text/plain": [
       "<matplotlib.figure.Figure at 0x112796ef0>"
      ]
     },
     "metadata": {},
     "output_type": "display_data"
    },
    {
     "data": {
      "image/png": "[encoded data removed]",
      "text/plain": [
       "<matplotlib.figure.Figure at 0x1128a7b70>"
      ]
     },
     "metadata": {},
     "output_type": "display_data"
    }
   ],
   "source": [
    "plt.scatter( nba_stats['trb'], nba_stats['ast'])\n",
    "plt.show()\n",
    "\n",
    "plt.scatter( nba_stats['fta'], nba_stats['fta'])\n",
    "plt.show()\n",
    "\n",
    "plt.scatter( nba_stats['stl'], nba_stats['stl'])\n",
    "plt.show()"
   ]
  },
  {
   "cell_type": "markdown",
   "metadata": {},
   "source": [
    "Measuring correlation can be a big help when we need to analyze a lot of variables. This spares us from having to eyeball everything.\n",
    "\n",
    "The most common way to measure correlation is to use Pearson's r, which we also call an r-value.\n",
    "\n",
    "An r-value ranges from -1 to 1, and indicates how strongly two variables are correlated.\n",
    "\n",
    "A 1 indicates a perfect positive correlation. This would appear as a straight, upward-sloping line on our plots.\n",
    "\n",
    "A 0 indicates no correlation. We'd see a scatterplot with points that appear random.\n",
    "\n",
    "A -1 indicates a perfect negative correlation. This would appear as a straight, downward-sloping line."
   ]
  },
  {
   "cell_type": "code",
   "execution_count": 45,
   "metadata": {
    "collapsed": false
   },
   "outputs": [
    {
     "name": "stdout",
     "output_type": "stream",
     "text": [
      "0.989211400652\n",
      "0.369861731248\n"
     ]
    }
   ],
   "source": [
    "from scipy.stats.stats import pearsonr\n",
    "r,p_value = pearsonr( nba_stats['fga'], nba_stats['pts'])\n",
    "print(r)\n",
    "#these cols are less correlated\n",
    "r, p_value = pearsonr(nba_stats['trb'], nba_stats['ast'])\n",
    "print(r)\n",
    "\n",
    "r_fta_pts, p_value = pearsonr( nba_stats['fta'], nba_stats['pts'])\n",
    "r_stl_pts, p_value = pearsonr( nba_stats['stl'], nba_stats['pf'])\n"
   ]
  },
  {
   "cell_type": "markdown",
   "metadata": {},
   "source": [
    "Another way to think of correlation is in terms of variance.\n",
    "Two variables are correlated when they both vary individually, but in similar ways. For example, correlation occurs when if one variable goes up, another variable also goes up.\n",
    "\n",
    "This is called covariance. Covariance refers to how different numbers vary jointly.\n",
    "The r-value is a ratio between the actual covariance and the maximum possible positive covariance.\n",
    "\n",
    "Let's look at actual covariance first. Mathematically speaking, covariance between two variables looks like this:\n",
    "\n"
   ]
  },
  {
   "cell_type": "code",
   "execution_count": 46,
   "metadata": {
    "collapsed": true
   },
   "outputs": [],
   "source": [
    "def covariance(x, y):\n",
    "    x_mean = sum(x) / len(x)\n",
    "    y_mean = sum(y) / len(y)\n",
    "    x_diffs = [i - x_mean for i in x]\n",
    "    y_diffs = [i - y_mean for i in y]\n",
    "    codeviates = [x_diffs[i] * y_diffs[i] for i in range(len(x))]\n",
    "    return sum(codeviates) / len(codeviates)\n",
    "\n",
    "cov_stl_pf = covariance(nba_stats[\"stl\"], nba_stats[\"pf\"])\n",
    "cov_fta_pts = covariance(nba_stats[\"fta\"], nba_stats[\"pts\"])"
   ]
  },
  {
   "cell_type": "code",
   "execution_count": 47,
   "metadata": {
    "collapsed": false
   },
   "outputs": [
    {
     "data": {
      "text/plain": [
       "71.2136273891327"
      ]
     },
     "execution_count": 47,
     "metadata": {},
     "output_type": "execute_result"
    }
   ],
   "source": [
    "nba_stats[\"pf\"].std()"
   ]
  },
  {
   "cell_type": "code",
   "execution_count": 49,
   "metadata": {
    "collapsed": false
   },
   "outputs": [
    {
     "data": {
      "text/plain": [
       "1827.1535039847543"
      ]
     },
     "execution_count": 49,
     "metadata": {},
     "output_type": "execute_result"
    }
   ],
   "source": [
    "from numpy import cov\n",
    "cov(nba_stats[\"pf\"], nba_stats[\"stl\"])[0,1]"
   ]
  },
  {
   "cell_type": "code",
   "execution_count": 50,
   "metadata": {
    "collapsed": true
   },
   "outputs": [],
   "source": [
    "#Compute the correlation coefficient for the fta and blk columns, and assign the result to r_fta_blk.\n",
    "\n",
    "r_fta_blk = cov(nba_stats[\"fta\"], nba_stats[\"blk\"])[0,1] / ((nba_stats[\"fta\"].var() * nba_stats[\"blk\"].var())** (1/2))\n",
    "r_ast_stl = cov(nba_stats[\"ast\"], nba_stats[\"stl\"])[0,1] / ((nba_stats[\"ast\"].var() * nba_stats[\"stl\"].var())** (1/2))"
   ]
  },
  {
   "cell_type": "code",
   "execution_count": 52,
   "metadata": {
    "collapsed": false
   },
   "outputs": [
    {
     "data": {
      "text/plain": [
       "0.77042797946826469"
      ]
     },
     "execution_count": 52,
     "metadata": {},
     "output_type": "execute_result"
    }
   ],
   "source": [
    "r_fta_blk\n",
    "r_ast_stl"
   ]
  },
  {
   "cell_type": "code",
   "execution_count": null,
   "metadata": {
    "collapsed": true
   },
   "outputs": [],
   "source": []
  }
 ],
 "metadata": {
  "kernelspec": {
   "display_name": "Python 3",
   "language": "python",
   "name": "python3"
  },
  "language_info": {
   "codemirror_mode": {
    "name": "ipython",
    "version": 3
   },
   "file_extension": ".py",
   "mimetype": "text/x-python",
   "name": "python",
   "nbconvert_exporter": "python",
   "pygments_lexer": "ipython3",
   "version": "3.6.0"
  }
 },
 "nbformat": 4,
 "nbformat_minor": 2
}
